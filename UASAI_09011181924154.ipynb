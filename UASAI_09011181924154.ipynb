{
 "cells": [
  {
   "cell_type": "markdown",
   "id": "b84e5dcd",
   "metadata": {},
   "source": [
    "# Klasifikasi Supervised Learning menggunakan metode Support Vector Machine (SVM) dengan topik Mediacal Diagnosis penyakit kanker Payudara.¶"
   ]
  },
  {
   "cell_type": "markdown",
   "id": "8b5fdb21",
   "metadata": {},
   "source": [
    "Pada penelitian kali ini saya menggunakan metode SVM karena dalam hal pengklasifikasian SVM cukup baik dibandingankan dengan metode klasifikasi lainnya.\n",
    "\n",
    "Dan pada penelitian ini pula saya menggunakan dataset yang saya dapatkan dari UCI yaitu \n",
    "Breast Cancer Wisconsin (Diagnostic) Data Set.\n",
    "link : https://archive.ics.uci.edu/ml/datasets/Breast+Cancer+Wisconsin+(Diagnostic)\n",
    "\n",
    "Dataset ini dihitung dari gambar digital aspirasi jarum halus (FNA) dari massa payudara. Mereka menggambarkan karakteristik inti sel yang ada dalam gambar.\n",
    "\n",
    "Dataset terdiri dari 30 fitur (mean radius, mean texture, mean perimeter, mean area, mean smoothness, mean compactness, mean concavity, mean concave points, mean symmetry, mean fractal dimension, radius error, texture error, perimeter error, area error, smoothness error, compactness error, concavity error, concave points error, symmetry error, fractal dimension error, worst radius, worst texture, worst perimeter, worst area, worst smoothness, worst compactness, worst concavity, worst concave points, worst symmetry, and worst fractal dimension) and a target (type of cancer).\n",
    "\n",
    "Data ini memiliki dua jenis kelas kanker: ganas (berbahaya/M) dan jinak (tidak berbahaya/B). \n",
    "Di sini, saya akan membuat model untuk mengklasifikasikan jenis kanker."
   ]
  },
  {
   "cell_type": "markdown",
   "id": "f6dd9143",
   "metadata": {},
   "source": [
    "# 1.Penguploadan data"
   ]
  },
  {
   "cell_type": "markdown",
   "id": "367a815e",
   "metadata": {},
   "source": [
    "Pada tahap pertama ini, saya akan mengupload data yang akan digunakan dalam penelitian ini."
   ]
  },
  {
   "cell_type": "code",
   "execution_count": 6,
   "id": "30d7bcaa",
   "metadata": {},
   "outputs": [],
   "source": [
    "#Impor library yang digunakan yaitu sklearm dan datasets\n",
    "from sklearn import datasets\n",
    "\n",
    "#Memuat data , yang mana disimpan pada variabel cancer\n",
    "cancer = datasets.load_breast_cancer()"
   ]
  },
  {
   "cell_type": "markdown",
   "id": "d2b4325c",
   "metadata": {},
   "source": [
    "# 2.  Explore data "
   ]
  },
  {
   "cell_type": "markdown",
   "id": "381c53af",
   "metadata": {},
   "source": [
    "Pada tahap kedua saya melakukan explore data untuk mengetahui lebih banyak informasi tentang data,seperti variabel yang tersedia , jumlah baris dan kolom pada data, 5 data kanker teratas dan target."
   ]
  },
  {
   "cell_type": "code",
   "execution_count": 7,
   "id": "43af7d51",
   "metadata": {},
   "outputs": [
    {
     "name": "stdout",
     "output_type": "stream",
     "text": [
      "Features:  ['mean radius' 'mean texture' 'mean perimeter' 'mean area'\n",
      " 'mean smoothness' 'mean compactness' 'mean concavity'\n",
      " 'mean concave points' 'mean symmetry' 'mean fractal dimension'\n",
      " 'radius error' 'texture error' 'perimeter error' 'area error'\n",
      " 'smoothness error' 'compactness error' 'concavity error'\n",
      " 'concave points error' 'symmetry error' 'fractal dimension error'\n",
      " 'worst radius' 'worst texture' 'worst perimeter' 'worst area'\n",
      " 'worst smoothness' 'worst compactness' 'worst concavity'\n",
      " 'worst concave points' 'worst symmetry' 'worst fractal dimension']\n",
      "Labels:  ['malignant' 'benign']\n"
     ]
    }
   ],
   "source": [
    "# Mencetak 30 label pada kolom\n",
    "print(\"Features: \", cancer.feature_names)\n",
    "\n",
    "# Mencetak label jenis kanker('malignant' 'benign')\n",
    "print(\"Labels: \", cancer.target_names)"
   ]
  },
  {
   "cell_type": "code",
   "execution_count": 8,
   "id": "f7b858b5",
   "metadata": {},
   "outputs": [
    {
     "data": {
      "text/plain": [
       "(569, 30)"
      ]
     },
     "execution_count": 8,
     "metadata": {},
     "output_type": "execute_result"
    }
   ],
   "source": [
    "# Menampilkan jumlah baris dan kolom pada dataset\n",
    "cancer.data.shape\n",
    "#Dataset terdiri dari 569 baris dan 30 kolom."
   ]
  },
  {
   "cell_type": "code",
   "execution_count": 9,
   "id": "a9248e53",
   "metadata": {},
   "outputs": [
    {
     "name": "stdout",
     "output_type": "stream",
     "text": [
      "[[1.799e+01 1.038e+01 1.228e+02 1.001e+03 1.184e-01 2.776e-01 3.001e-01\n",
      "  1.471e-01 2.419e-01 7.871e-02 1.095e+00 9.053e-01 8.589e+00 1.534e+02\n",
      "  6.399e-03 4.904e-02 5.373e-02 1.587e-02 3.003e-02 6.193e-03 2.538e+01\n",
      "  1.733e+01 1.846e+02 2.019e+03 1.622e-01 6.656e-01 7.119e-01 2.654e-01\n",
      "  4.601e-01 1.189e-01]\n",
      " [2.057e+01 1.777e+01 1.329e+02 1.326e+03 8.474e-02 7.864e-02 8.690e-02\n",
      "  7.017e-02 1.812e-01 5.667e-02 5.435e-01 7.339e-01 3.398e+00 7.408e+01\n",
      "  5.225e-03 1.308e-02 1.860e-02 1.340e-02 1.389e-02 3.532e-03 2.499e+01\n",
      "  2.341e+01 1.588e+02 1.956e+03 1.238e-01 1.866e-01 2.416e-01 1.860e-01\n",
      "  2.750e-01 8.902e-02]\n",
      " [1.969e+01 2.125e+01 1.300e+02 1.203e+03 1.096e-01 1.599e-01 1.974e-01\n",
      "  1.279e-01 2.069e-01 5.999e-02 7.456e-01 7.869e-01 4.585e+00 9.403e+01\n",
      "  6.150e-03 4.006e-02 3.832e-02 2.058e-02 2.250e-02 4.571e-03 2.357e+01\n",
      "  2.553e+01 1.525e+02 1.709e+03 1.444e-01 4.245e-01 4.504e-01 2.430e-01\n",
      "  3.613e-01 8.758e-02]\n",
      " [1.142e+01 2.038e+01 7.758e+01 3.861e+02 1.425e-01 2.839e-01 2.414e-01\n",
      "  1.052e-01 2.597e-01 9.744e-02 4.956e-01 1.156e+00 3.445e+00 2.723e+01\n",
      "  9.110e-03 7.458e-02 5.661e-02 1.867e-02 5.963e-02 9.208e-03 1.491e+01\n",
      "  2.650e+01 9.887e+01 5.677e+02 2.098e-01 8.663e-01 6.869e-01 2.575e-01\n",
      "  6.638e-01 1.730e-01]\n",
      " [2.029e+01 1.434e+01 1.351e+02 1.297e+03 1.003e-01 1.328e-01 1.980e-01\n",
      "  1.043e-01 1.809e-01 5.883e-02 7.572e-01 7.813e-01 5.438e+00 9.444e+01\n",
      "  1.149e-02 2.461e-02 5.688e-02 1.885e-02 1.756e-02 5.115e-03 2.254e+01\n",
      "  1.667e+01 1.522e+02 1.575e+03 1.374e-01 2.050e-01 4.000e-01 1.625e-01\n",
      "  2.364e-01 7.678e-02]]\n"
     ]
    }
   ],
   "source": [
    "# menampilkan fitur 5 data kanker teratas\n",
    "print(cancer.data[0:5])"
   ]
  },
  {
   "cell_type": "code",
   "execution_count": 10,
   "id": "6e1470ca",
   "metadata": {},
   "outputs": [
    {
     "name": "stdout",
     "output_type": "stream",
     "text": [
      "[0 0 0 0 0 0 0 0 0 0 0 0 0 0 0 0 0 0 0 1 1 1 0 0 0 0 0 0 0 0 0 0 0 0 0 0 0\n",
      " 1 0 0 0 0 0 0 0 0 1 0 1 1 1 1 1 0 0 1 0 0 1 1 1 1 0 1 0 0 1 1 1 1 0 1 0 0\n",
      " 1 0 1 0 0 1 1 1 0 0 1 0 0 0 1 1 1 0 1 1 0 0 1 1 1 0 0 1 1 1 1 0 1 1 0 1 1\n",
      " 1 1 1 1 1 1 0 0 0 1 0 0 1 1 1 0 0 1 0 1 0 0 1 0 0 1 1 0 1 1 0 1 1 1 1 0 1\n",
      " 1 1 1 1 1 1 1 1 0 1 1 1 1 0 0 1 0 1 1 0 0 1 1 0 0 1 1 1 1 0 1 1 0 0 0 1 0\n",
      " 1 0 1 1 1 0 1 1 0 0 1 0 0 0 0 1 0 0 0 1 0 1 0 1 1 0 1 0 0 0 0 1 1 0 0 1 1\n",
      " 1 0 1 1 1 1 1 0 0 1 1 0 1 1 0 0 1 0 1 1 1 1 0 1 1 1 1 1 0 1 0 0 0 0 0 0 0\n",
      " 0 0 0 0 0 0 0 1 1 1 1 1 1 0 1 0 1 1 0 1 1 0 1 0 0 1 1 1 1 1 1 1 1 1 1 1 1\n",
      " 1 0 1 1 0 1 0 1 1 1 1 1 1 1 1 1 1 1 1 1 1 0 1 1 1 0 1 0 1 1 1 1 0 0 0 1 1\n",
      " 1 1 0 1 0 1 0 1 1 1 0 1 1 1 1 1 1 1 0 0 0 1 1 1 1 1 1 1 1 1 1 1 0 0 1 0 0\n",
      " 0 1 0 0 1 1 1 1 1 0 1 1 1 1 1 0 1 1 1 0 1 1 0 0 1 1 1 1 1 1 0 1 1 1 1 1 1\n",
      " 1 0 1 1 1 1 1 0 1 1 0 1 1 1 1 1 1 1 1 1 1 1 1 0 1 0 0 1 0 1 1 1 1 1 0 1 1\n",
      " 0 1 0 1 1 0 1 0 1 1 1 1 1 1 1 1 0 0 1 1 1 1 1 1 0 1 1 1 1 1 1 1 1 1 1 0 1\n",
      " 1 1 1 1 1 1 0 1 0 1 1 0 1 1 1 1 1 0 0 1 0 1 0 1 1 1 1 1 0 1 1 0 1 0 1 0 0\n",
      " 1 1 1 0 1 1 1 1 1 1 1 1 1 1 1 0 1 0 0 1 1 1 1 1 1 1 1 1 1 1 1 1 1 1 1 1 1\n",
      " 1 1 1 1 1 1 1 0 0 0 0 0 0 1]\n"
     ]
    }
   ],
   "source": [
    "#Menampilkan label kanker pada dataset (0:malignant, 1:benign)\n",
    "print(cancer.target)"
   ]
  },
  {
   "cell_type": "markdown",
   "id": "71037045",
   "metadata": {},
   "source": [
    "# 3. Memisahkan data"
   ]
  },
  {
   "cell_type": "markdown",
   "id": "c651d220",
   "metadata": {},
   "source": [
    "Tahap ketiga adalah memisahkan data menjadi 2 yaitu data training dan data testing. Jika dilihat pada program maka\n",
    "data training yang digunakan adalah sebanyak 70% dan data testing sebanyak 30%."
   ]
  },
  {
   "cell_type": "code",
   "execution_count": 11,
   "id": "f7f8d293",
   "metadata": {},
   "outputs": [],
   "source": [
    " # Impor fungsi train_test_split\n",
    "from sklearn.model_selection import train_test_split\n",
    "\n",
    "# Memisahkan dataset menjadi data training dan set testing\n",
    "X_train, X_test, y_train, y_test = train_test_split(cancer.data, cancer.target, test_size=0.3,random_state=109) # 70% training and 30% test"
   ]
  },
  {
   "cell_type": "markdown",
   "id": "432f6911",
   "metadata": {},
   "source": [
    "# 4. Membuat model"
   ]
  },
  {
   "cell_type": "markdown",
   "id": "e51274d1",
   "metadata": {},
   "source": [
    "Kemudian, kita akan membuat model yang akan digunakan untuk melakukan klasifikasi serta melakukan prediksi terhadap data training."
   ]
  },
  {
   "cell_type": "code",
   "execution_count": 12,
   "id": "32e7f664",
   "metadata": {},
   "outputs": [],
   "source": [
    "#Import svm model\n",
    "from sklearn import svm\n",
    "\n",
    "#Membuat Pengklasifikasi svm\n",
    "clf = svm.SVC(kernel='linear') # Linear Kernel\n",
    "\n",
    "#Melatih model menggunakan data training\n",
    "clf.fit(X_train, y_train)\n",
    "\n",
    "#Prediksi respons untuk kumpulan data training\n",
    "y_pred = clf.predict(X_test)"
   ]
  },
  {
   "cell_type": "markdown",
   "id": "3905ebe1",
   "metadata": {},
   "source": [
    "# 5. Mengevaluasi model"
   ]
  },
  {
   "cell_type": "markdown",
   "id": "e7e32e33",
   "metadata": {},
   "source": [
    "Pada tahap kelima kita akan mengevaluasi model yang kita gunakan dengan mencari akurasinya, Akurasi dapat dihitung dengan \n",
    "membandingkan nilai dari data training aktual dan nilai prediksi."
   ]
  },
  {
   "cell_type": "code",
   "execution_count": 13,
   "id": "0f6f6394",
   "metadata": {},
   "outputs": [
    {
     "name": "stdout",
     "output_type": "stream",
     "text": [
      "Accuracy: 0.9649122807017544\n"
     ]
    }
   ],
   "source": [
    "#Impor modul metrik scikit-learn untuk perhitungan akurasi\n",
    "from sklearn import metrics\n",
    "\n",
    "# Model Accuracy: seberapa sering klasifikasi benar?\n",
    "print(\"Accuracy:\",metrics.accuracy_score(y_test, y_pred))"
   ]
  },
  {
   "cell_type": "markdown",
   "id": "64af9239",
   "metadata": {},
   "source": [
    "Nah, kita mendapatkan nilai akurasi sebesar 96,49%, dan dianggap sebagai akurasi yang sangat baik."
   ]
  },
  {
   "cell_type": "code",
   "execution_count": 14,
   "id": "98d6a74e",
   "metadata": {},
   "outputs": [
    {
     "data": {
      "text/plain": [
       "array([[ 61,   2],\n",
       "       [  4, 104]], dtype=int64)"
      ]
     },
     "execution_count": 14,
     "metadata": {},
     "output_type": "execute_result"
    }
   ],
   "source": [
    "#Melihat confusion matrix untuk memudahkan dalam mengetahui apakah terdapat kesalahan dalam pengklasifikasian\n",
    "from sklearn.metrics import confusion_matrix\n",
    "confusion_matrix(y_test, y_pred)"
   ]
  },
  {
   "cell_type": "markdown",
   "id": "afffd669",
   "metadata": {},
   "source": [
    "Berdasarkan output, diketahui bahwa terdapat 2 kesalahan dalam pengklasifikasian menggunakan algoritma SVM, \n",
    "yaitu 2 pasien diklasifikasikan dalam pasien pengidap kanker jinak, tetapi dalam keadaan sebenarnya, pasien mengalami kanker ganas dan 4 pasien diklasifikasikan dalam pasien pengidap kanker ganas, tetapi dalam keadaan sebenarnya, pasien mengalami kanker jinak. "
   ]
  },
  {
   "cell_type": "markdown",
   "id": "a2e8bb60",
   "metadata": {},
   "source": [
    "Untuk evaluasi lebih lanjut, kita juga dapat memeriksa presisi dan recall model."
   ]
  },
  {
   "cell_type": "code",
   "execution_count": 15,
   "id": "34cd9716",
   "metadata": {},
   "outputs": [
    {
     "name": "stdout",
     "output_type": "stream",
     "text": [
      "Precision: 0.9811320754716981\n",
      "Recall: 0.9629629629629629\n"
     ]
    }
   ],
   "source": [
    "# Model Precision: berapa persentase tupel positif yang diberi label seperti itu?\n",
    "print(\"Precision:\",metrics.precision_score(y_test, y_pred))\n",
    "\n",
    "# Model Recall: berapa persentase tupel positif yang diberi label seperti itu?\n",
    "print(\"Recall:\",metrics.recall_score(y_test, y_pred))"
   ]
  },
  {
   "cell_type": "markdown",
   "id": "a7e06e2d",
   "metadata": {},
   "source": [
    "Nah, kita mendapatkan presisi 98% dan recall 96%, yang dianggap sebagai nilai yang sangat baik."
   ]
  }
 ],
 "metadata": {
  "kernelspec": {
   "display_name": "Python 3",
   "language": "python",
   "name": "python3"
  },
  "language_info": {
   "codemirror_mode": {
    "name": "ipython",
    "version": 3
   },
   "file_extension": ".py",
   "mimetype": "text/x-python",
   "name": "python",
   "nbconvert_exporter": "python",
   "pygments_lexer": "ipython3",
   "version": "3.8.8"
  }
 },
 "nbformat": 4,
 "nbformat_minor": 5
}
